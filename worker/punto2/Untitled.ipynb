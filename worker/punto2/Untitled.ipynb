{
 "cells": [
  {
   "cell_type": "code",
   "execution_count": 50,
   "metadata": {
    "collapsed": false
   },
   "outputs": [],
   "source": [
    "ignorecase = True\n",
    "case = 'lower-case'*ignorecase\n",
    "campo = 'description'\n",
    "frase = 'bmx'\n",
    "query = 'for $x in doc(\\'db_feed.xml\\')//item\\n'\n",
    "simple = query +'\\\n",
    "    where (\\\n",
    "    contains('+case+'($x/'+campo+'),'+case+'(\\''+frase+'\\'))\\\n",
    "    )\\n\\\n",
    "    return data($x/id)'\n",
    "categoricas = query + '\\\n",
    "return\\n\\\n",
    "    (\\n\\\n",
    "        for $y in $x/category\\n\\\n",
    "        where (contains('+case+'($y),'+case+'(\\''+frase+'\\')))\\n\\\n",
    "        return data($x/id)\\n\\\n",
    "    )[1]'\n"
   ]
  },
  {
   "cell_type": "code",
   "execution_count": 51,
   "metadata": {
    "collapsed": false
   },
   "outputs": [
    {
     "name": "stdout",
     "output_type": "stream",
     "text": [
      "for $x in doc('db_feed.xml')//item\n",
      "    where (contains(lower-case($x/description),lower-case('bmx')))\n",
      "    return data($x/id)\n"
     ]
    }
   ],
   "source": [
    "print(simple)"
   ]
  },
  {
   "cell_type": "code",
   "execution_count": 54,
   "metadata": {
    "collapsed": false
   },
   "outputs": [
    {
     "name": "stdout",
     "output_type": "stream",
     "text": [
      "0\n"
     ]
    }
   ],
   "source": [
    "    import os\n",
    "    print(os.system('pwd'))"
   ]
  },
  {
   "cell_type": "code",
   "execution_count": 42,
   "metadata": {
    "collapsed": false
   },
   "outputs": [
    {
     "name": "stdout",
     "output_type": "stream",
     "text": [
      "for\n",
      "for\n",
      "for\n"
     ]
    },
    {
     "name": "stderr",
     "output_type": "stream",
     "text": [
      "/home/pandora/Documents/BigData/Taller1/AnalisisBigData/preeliminar/worker/punto2/tmpfile:1:1: error: It is an error for the context item to be undefined when using it [err:XPDY0002]\n",
      "for\n",
      "^  \n"
     ]
    }
   ],
   "source": [
    "%%bash -s $simple\n",
    "echo \"$1\" > tmpfile\n",
    "cat tmpfile\n",
    "echo \"$1\"\n",
    "echo $1\n",
    "xqilla tmpfile\n",
    "rm tmpfile"
   ]
  },
  {
   "cell_type": "code",
   "execution_count": null,
   "metadata": {
    "collapsed": true
   },
   "outputs": [],
   "source": []
  }
 ],
 "metadata": {
  "kernelspec": {
   "display_name": "Python 3",
   "language": "python",
   "name": "python3"
  },
  "language_info": {
   "codemirror_mode": {
    "name": "ipython",
    "version": 3
   },
   "file_extension": ".py",
   "mimetype": "text/x-python",
   "name": "python",
   "nbconvert_exporter": "python",
   "pygments_lexer": "ipython3",
   "version": "3.5.2"
  }
 },
 "nbformat": 4,
 "nbformat_minor": 0
}
